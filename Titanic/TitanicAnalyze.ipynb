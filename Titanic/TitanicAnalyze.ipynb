{
 "metadata": {
  "language_info": {
   "codemirror_mode": {
    "name": "ipython",
    "version": 3
   },
   "file_extension": ".py",
   "mimetype": "text/x-python",
   "name": "python",
   "nbconvert_exporter": "python",
   "pygments_lexer": "ipython3",
   "version": "3.8.5-final"
  },
  "orig_nbformat": 2,
  "kernelspec": {
   "name": "python_defaultSpec_1612702206464",
   "display_name": "Python 3.8.5 64-bit ('anaconda3': virtualenv)"
  }
 },
 "nbformat": 4,
 "nbformat_minor": 2,
 "cells": [
  {
   "cell_type": "markdown",
   "metadata": {},
   "source": [
    "# データ 前処理"
   ]
  },
  {
   "cell_type": "code",
   "execution_count": 4,
   "metadata": {},
   "outputs": [],
   "source": [
    "import pandas as pd\n",
    "import numpy as np\n",
    " \n",
    "# train data\n",
    "train = pd.read_csv('https://raw.githubusercontent.com/kotaronov27/KaggleSB/main/Titanic/data/train.csv')\n",
    "# org create\n",
    "train_org = train.copy()\n",
    "\n",
    "# test data\n",
    "test = pd.read_csv('https://raw.githubusercontent.com/kotaronov27/KaggleSB/main/Titanic/data/test.csv')\n",
    "# org create\n",
    "test_org = test.copy()\n",
    "\n",
    "# gender data\n",
    "gendersb = pd.read_csv('https://raw.githubusercontent.com/kotaronov27/KaggleSB/main/Titanic/data/gender_submission.csv')\n",
    "# org create\n",
    "gendersb_org = gendersb.copy()\n",
    "\n",
    "# Cabin data create\n",
    "# 番号部分を取り出す(T は誤りとして処理)\n",
    "def extract_cabin_type(x):\n",
    "  cabin = x['Cabin']\n",
    "  if isinstance(cabin, str) and cabin[0] != 'T':\n",
    "    return cabin[0]\n",
    "  else:\n",
    "    return np.nan\n",
    "\n",
    "# 訓練データとテストデータの両方に、チケット番号を取り出したCabinType列を追加\n",
    "train['CabinType'] = train.apply(extract_cabin_type, axis=1)\n",
    "test['CabinType'] = test.apply(extract_cabin_type, axis=1)\n",
    "\n",
    "sortedCabinTypes = sorted(set(train['CabinType'].dropna()))\n",
    "\n",
    "# PersonType data create\n",
    "# 子供、男性、女性に分類\n",
    "def male_female_child(x):\n",
    "  age = x['Age']\n",
    "  sex = x['Sex']\n",
    "  # 15歳以下なら子供、それ以外を male / female に分ける\n",
    "  if age <= 15:\n",
    "    return 'child'\n",
    "  else:\n",
    "    return sex\n",
    "\n",
    "# 訓練データとテストデータの両方に、male / female / childに分けたPersonType列を追加\n",
    "train['PersonType'] = train.apply(male_female_child,axis=1)\n",
    "test['PersonType'] = test.apply(male_female_child,axis=1)"
   ]
  },
  {
   "cell_type": "code",
   "execution_count": 5,
   "metadata": {
    "tags": []
   },
   "outputs": [
    {
     "output_type": "stream",
     "name": "stdout",
     "text": "['male' 'female']\n['male' 'female']\n['S' 'C' 'Q' nan]\n['Q' 'S' 'C']\n['male' 'female' 'child']\n['male' 'female' 'child']\n[nan 'C' 'E' 'G' 'D' 'A' 'B' 'F']\n[nan 'B' 'E' 'A' 'C' 'D' 'F' 'G']\n"
    }
   ],
   "source": [
    "print(train[\"Sex\"].unique())\n",
    "print(test[\"Sex\"].unique())\n",
    "\n",
    "print(train[\"Embarked\"].unique())\n",
    "print(test[\"Embarked\"].unique())\n",
    "\n",
    "print(train[\"PersonType\"].unique())\n",
    "print(test[\"PersonType\"].unique())\n",
    "\n",
    "print(train[\"CabinType\"].unique())\n",
    "print(test[\"CabinType\"].unique())"
   ]
  }
 ]
}