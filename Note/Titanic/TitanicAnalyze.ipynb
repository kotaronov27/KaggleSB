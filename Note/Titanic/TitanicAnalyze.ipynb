{
 "metadata": {
  "language_info": {
   "codemirror_mode": {
    "name": "ipython",
    "version": 3
   },
   "file_extension": ".py",
   "mimetype": "text/x-python",
   "name": "python",
   "nbconvert_exporter": "python",
   "pygments_lexer": "ipython3",
   "version": "3.6.9-final"
  },
  "orig_nbformat": 2,
  "kernelspec": {
   "name": "python_defaultSpec_1613046468073",
   "display_name": "Python 3.6.9 64-bit"
  }
 },
 "nbformat": 4,
 "nbformat_minor": 2,
 "cells": [
  {
   "cell_type": "markdown",
   "metadata": {},
   "source": [
    "# データ 前処理"
   ]
  },
  {
   "cell_type": "code",
   "execution_count": 1,
   "metadata": {},
   "outputs": [],
   "source": [
    "import pandas as pd\n",
    "import numpy as np\n",
    " \n",
    "# train data\n",
    "train = pd.read_csv('./data/train.csv')\n",
    "# org create\n",
    "train_org = train.copy()\n",
    "\n",
    "# test data\n",
    "test = pd.read_csv('./data/test.csv')\n",
    "# org create\n",
    "test_org = test.copy()\n",
    "\n",
    "# gender data\n",
    "gendersb = pd.read_csv('./data/gender_submission.csv')\n",
    "# org create\n",
    "gendersb_org = gendersb.copy()\n",
    "\n",
    "# Cabin data create\n",
    "# 番号部分を取り出す(T は誤りとして処理)\n",
    "def extract_cabin_type(x):\n",
    "  cabin = x['Cabin']\n",
    "  if isinstance(cabin, str) and cabin[0] != 'T':\n",
    "    return cabin[0]\n",
    "  else:\n",
    "    return np.nan\n",
    "\n",
    "# 訓練データとテストデータの両方に、チケット番号を取り出したCabinType列を追加\n",
    "train['CabinType'] = train.apply(extract_cabin_type, axis=1)\n",
    "test['CabinType'] = test.apply(extract_cabin_type, axis=1)\n",
    "\n",
    "sortedCabinTypes = sorted(set(train['CabinType'].dropna()))\n",
    "\n",
    "# PersonType data create\n",
    "# 子供、男性、女性に分類\n",
    "def male_female_child(x):\n",
    "  age = x['Age']\n",
    "  sex = x['Sex']\n",
    "  # 15歳以下なら子供、それ以外を male / female に分ける\n",
    "  if age <= 15:\n",
    "    return 'child'\n",
    "  else:\n",
    "    return sex\n",
    "\n",
    "# 訓練データとテストデータの両方に、male / female / childに分けたPersonType列を追加\n",
    "train['PersonType'] = train.apply(male_female_child,axis=1)\n",
    "test['PersonType'] = test.apply(male_female_child,axis=1)"
   ]
  },
  {
   "cell_type": "code",
   "execution_count": 2,
   "metadata": {
    "tags": []
   },
   "outputs": [
    {
     "output_type": "stream",
     "name": "stdout",
     "text": "['male' 'female']\n['male' 'female']\n['S' 'C' 'Q' nan]\n['Q' 'S' 'C']\n['male' 'female' 'child']\n['male' 'female' 'child']\n[nan 'C' 'E' 'G' 'D' 'A' 'B' 'F']\n[nan 'B' 'E' 'A' 'C' 'D' 'F' 'G']\n"
    }
   ],
   "source": [
    "print(train[\"Sex\"].unique())\n",
    "print(test[\"Sex\"].unique())\n",
    "\n",
    "print(train[\"Embarked\"].unique())\n",
    "print(test[\"Embarked\"].unique())\n",
    "\n",
    "print(train[\"PersonType\"].unique())\n",
    "print(test[\"PersonType\"].unique())\n",
    "\n",
    "print(train[\"CabinType\"].unique())\n",
    "print(test[\"CabinType\"].unique())"
   ]
  },
  {
   "cell_type": "code",
   "execution_count": 3,
   "metadata": {
    "tags": []
   },
   "outputs": [
    {
     "output_type": "stream",
     "name": "stdout",
     "text": "[ 2.  0.  1. nan]\n[1 2 0]\n[nan  2.  4.  6.  3.  0.  1.  5.]\n[nan  1.  4.  0.  2.  3.  5.  6.]\n[0 1]\n[0 1]\n[0 1 2]\n[0 1 2]\n"
    }
   ],
   "source": [
    "#データ整形\n",
    "train[\"Embarked\"] = train[\"Embarked\"].replace(\"C\", 0).replace(\"Q\", 1).replace(\"S\", 2)\n",
    "test[\"Embarked\"] = test[\"Embarked\"].replace(\"C\", 0).replace(\"Q\", 1).replace(\"S\", 2)\n",
    "\n",
    "print(train[\"Embarked\"].unique())\n",
    "print(test[\"Embarked\"].unique())\n",
    "\n",
    "train[\"CabinType\"] = train[\"CabinType\"].replace(\"A\", 0).replace(\"B\", 1).replace(\"C\", 2).replace(\"D\", 3).replace(\"E\", 4).replace(\"F\", 5).replace(\"G\", 6)\n",
    "test[\"CabinType\"] = test[\"CabinType\"].replace(\"A\", 0).replace(\"B\", 1).replace(\"C\", 2).replace(\"D\", 3).replace(\"E\", 4).replace(\"F\", 5).replace(\"G\", 6)\n",
    "\n",
    "print(train[\"CabinType\"].unique())\n",
    "print(test[\"CabinType\"].unique())\n",
    "\n",
    "# Sex:(male,female)=(0,1)\n",
    "train[\"Sex\"] = train[\"Sex\"].replace(\"male\", 0).replace(\"female\", 1)\n",
    "test[\"Sex\"] = test[\"Sex\"].replace(\"male\", 0).replace(\"female\", 1)\n",
    "\n",
    "print(train[\"Sex\"].unique())\n",
    "print(test[\"Sex\"].unique())\n",
    "\n",
    "# PersonType:(male,female,child)=(0,1,2)\n",
    "train[\"PersonType\"] = train[\"PersonType\"].replace(\"male\", 0).replace(\"female\", 1).replace(\"child\", 2)\n",
    "test[\"PersonType\"] = test[\"PersonType\"].replace(\"male\", 0).replace(\"female\", 1).replace(\"child\", 2)\n",
    "\n",
    "print(train[\"PersonType\"].unique())\n",
    "print(test[\"PersonType\"].unique())"
   ]
  },
  {
   "cell_type": "code",
   "execution_count": 4,
   "metadata": {
    "tags": []
   },
   "outputs": [
    {
     "output_type": "stream",
     "name": "stdout",
     "text": "訓練データの欠損値の個数\n PassengerId      0\nSurvived         0\nPclass           0\nName             0\nSex              0\nAge            177\nSibSp            0\nParch            0\nTicket           0\nFare             0\nCabin          687\nEmbarked         2\nCabinType      688\nPersonType       0\ndtype: int64\n----------------------------------------\nテストデータの欠損値の個数\n PassengerId      0\nPclass           0\nName             0\nSex              0\nAge             86\nSibSp            0\nParch            0\nTicket           0\nFare             1\nCabin          327\nEmbarked         0\nCabinType      327\nPersonType       0\ndtype: int64\n"
    }
   ],
   "source": [
    "print('訓練データの欠損値の個数\\n', train.isnull().sum())\n",
    "print('-' * 40)\n",
    "print('テストデータの欠損値の個数\\n', test.isnull().sum())"
   ]
  },
  {
   "cell_type": "code",
   "execution_count": 5,
   "metadata": {},
   "outputs": [
    {
     "output_type": "execute_result",
     "data": {
      "text/plain": "2.0    644\n0.0    168\n1.0     77\nName: Embarked, dtype: int64"
     },
     "metadata": {},
     "execution_count": 5
    }
   ],
   "source": [
    "#Train 欠損値変更\n",
    "train[\"Embarked\"].value_counts()"
   ]
  },
  {
   "cell_type": "code",
   "execution_count": 6,
   "metadata": {
    "tags": []
   },
   "outputs": [
    {
     "output_type": "stream",
     "name": "stdout",
     "text": "[2. 0. 1.]\n"
    }
   ],
   "source": [
    "#高頻度で補完\n",
    "train[\"Embarked\"] = train[\"Embarked\"].fillna(2)\n",
    "print(train[\"Embarked\"].unique())"
   ]
  },
  {
   "cell_type": "code",
   "execution_count": 7,
   "metadata": {
    "tags": []
   },
   "outputs": [
    {
     "output_type": "stream",
     "name": "stdout",
     "text": "[-1.  2.  4.  6.  3.  0.  1.  5.]\n[-1.  1.  4.  0.  2.  3.  5.  6.]\n[-1 'C85' 'C123' 'E46' 'G6' 'C103' 'D56' 'A6' 'C23 C25 C27' 'B78' 'D33'\n 'B30' 'C52' 'B28' 'C83' 'F33' 'F G73' 'E31' 'A5' 'D10 D12' 'D26' 'C110'\n 'B58 B60' 'E101' 'F E69' 'D47' 'B86' 'F2' 'C2' 'E33' 'B19' 'A7' 'C49'\n 'F4' 'A32' 'B4' 'B80' 'A31' 'D36' 'D15' 'C93' 'C78' 'D35' 'C87' 'B77'\n 'E67' 'B94' 'C125' 'C99' 'C118' 'D7' 'A19' 'B49' 'D' 'C22 C26' 'C106'\n 'C65' 'E36' 'C54' 'B57 B59 B63 B66' 'C7' 'E34' 'C32' 'B18' 'C124' 'C91'\n 'E40' 'T' 'C128' 'D37' 'B35' 'E50' 'C82' 'B96 B98' 'E10' 'E44' 'A34'\n 'C104' 'C111' 'C92' 'E38' 'D21' 'E12' 'E63' 'A14' 'B37' 'C30' 'D20' 'B79'\n 'E25' 'D46' 'B73' 'C95' 'B38' 'B39' 'B22' 'C86' 'C70' 'A16' 'C101' 'C68'\n 'A10' 'E68' 'B41' 'A20' 'D19' 'D50' 'D9' 'A23' 'B50' 'A26' 'D48' 'E58'\n 'C126' 'B71' 'B51 B53 B55' 'D49' 'B5' 'B20' 'F G63' 'C62 C64' 'E24' 'C90'\n 'C45' 'E8' 'B101' 'D45' 'C46' 'D30' 'E121' 'D11' 'E77' 'F38' 'B3' 'D6'\n 'B82 B84' 'D17' 'A36' 'B102' 'B69' 'E49' 'C47' 'D28' 'E17' 'A24' 'C50'\n 'B42' 'C148']\n[-1 'B45' 'E31' 'B57 B59 B63 B66' 'B36' 'A21' 'C78' 'D34' 'D19' 'A9' 'D15'\n 'C31' 'C23 C25 C27' 'F G63' 'B61' 'C53' 'D43' 'C130' 'C132' 'C101'\n 'C55 C57' 'B71' 'C46' 'C116' 'F' 'A29' 'G6' 'C6' 'C28' 'C51' 'E46' 'C54'\n 'C97' 'D22' 'B10' 'F4' 'E45' 'E52' 'D30' 'B58 B60' 'E34' 'C62 C64' 'A11'\n 'B11' 'C80' 'F33' 'C85' 'D37' 'C86' 'D21' 'C89' 'F E46' 'A34' 'D' 'B26'\n 'C22 C26' 'B69' 'C32' 'B78' 'F E57' 'F2' 'A18' 'C106' 'B51 B53 B55'\n 'D10 D12' 'E60' 'E50' 'E39 E41' 'B52 B54 B56' 'C39' 'B24' 'D28' 'B41'\n 'C7' 'D40' 'D38' 'C105']\n"
    }
   ],
   "source": [
    "#欠損値で単純補完\n",
    "train[\"CabinType\"] = train[\"CabinType\"].fillna(-1)\n",
    "test[\"CabinType\"] = test[\"CabinType\"].fillna(-1)\n",
    "\n",
    "print(train[\"CabinType\"].unique())\n",
    "print(test[\"CabinType\"].unique())\n",
    "\n",
    "train[\"Cabin\"] = train[\"Cabin\"].fillna(-1)\n",
    "test[\"Cabin\"] = test[\"Cabin\"].fillna(-1)\n",
    "\n",
    "print(train[\"Cabin\"].unique())\n",
    "print(test[\"Cabin\"].unique())"
   ]
  },
  {
   "cell_type": "code",
   "execution_count": 8,
   "metadata": {
    "tags": []
   },
   "outputs": [
    {
     "output_type": "stream",
     "name": "stdout",
     "text": "29.881137667304014 33.29547928134557\n"
    }
   ],
   "source": [
    "#中央値補完\n",
    "age_mean = pd.concat([train[\"Age\"], test[\"Age\"]]).mean()\n",
    "fare_mean = pd.concat([train[\"Fare\"], test[\"Fare\"]]).mean()\n",
    "\n",
    "print(age_mean, fare_mean)\n",
    "\n",
    "train[\"Age\"] = train[\"Age\"].fillna(age_mean)\n",
    "test[\"Age\"] = test[\"Age\"].fillna(age_mean)\n",
    "\n",
    "train[\"Fare\"] = train[\"Fare\"].fillna(fare_mean)\n",
    "test[\"Fare\"] = test[\"Fare\"].fillna(fare_mean)"
   ]
  },
  {
   "cell_type": "code",
   "execution_count": 9,
   "metadata": {
    "tags": []
   },
   "outputs": [
    {
     "output_type": "stream",
     "name": "stdout",
     "text": "訓練データの欠損値の個数\n PassengerId    0\nSurvived       0\nPclass         0\nName           0\nSex            0\nAge            0\nSibSp          0\nParch          0\nTicket         0\nFare           0\nCabin          0\nEmbarked       0\nCabinType      0\nPersonType     0\ndtype: int64\n----------------------------------------\nテストデータの欠損値の個数\n PassengerId    0\nPclass         0\nName           0\nSex            0\nAge            0\nSibSp          0\nParch          0\nTicket         0\nFare           0\nCabin          0\nEmbarked       0\nCabinType      0\nPersonType     0\ndtype: int64\n"
    }
   ],
   "source": [
    "print('訓練データの欠損値の個数\\n', train.isnull().sum())\n",
    "print('-' * 40)\n",
    "print('テストデータの欠損値の個数\\n', test.isnull().sum())"
   ]
  },
  {
   "cell_type": "code",
   "execution_count": 10,
   "metadata": {
    "tags": []
   },
   "outputs": [
    {
     "output_type": "stream",
     "name": "stdout",
     "text": "訓練データでの正解率: 0.9595959595959596\n"
    }
   ],
   "source": [
    "#ランダムフォレスト\n",
    "# ラベル\n",
    "y_train = train[\"Survived\"].values\n",
    "# 特徴量（4個のみ採用）\n",
    "X_train = train[[\"Pclass\", \"Sex\", \"Age\", \"Fare\"]].values\n",
    "X_test = test[[\"Pclass\", \"Sex\", \"Age\", \"Fare\"]].values\n",
    " \n",
    "# ランダムフォレストによる学習\n",
    "from sklearn import ensemble\n",
    "model = ensemble.RandomForestClassifier(random_state=0, n_estimators=10)\n",
    "model.fit(X_train, y_train)\n",
    "\n",
    "# 訓練データで予測を試す\n",
    "y_pred = model.predict(X_train)\n",
    "\n",
    "# 正解率(accuracy)を表示\n",
    "print(\"訓練データでの正解率:\", model.score(X_train, y_train))\n",
    "  \n",
    "# テストデータで予測\n",
    "y_test = model.predict(X_test)\n",
    "\n",
    "# テストデータの予測結果をCSVに出力\n",
    "result = pd.DataFrame(y_test, test[\"PassengerId\"], columns = [\"Survived\"])\n",
    "result.to_csv(\"result.csv\", index_label = [\"PassengerId\"])"
   ]
  },
  {
   "cell_type": "code",
   "execution_count": 11,
   "metadata": {},
   "outputs": [],
   "source": [
    "#Google Colabでやった場合\n",
    "#from google.colab import files\n",
    "#files.download(\"result.csv\")"
   ]
  }
 ]
}